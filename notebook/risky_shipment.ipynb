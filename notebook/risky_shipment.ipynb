{
 "cells": [
  {
   "cell_type": "code",
   "execution_count": 1,
   "metadata": {},
   "outputs": [],
   "source": [
    "import tarfile\n",
    "import requests\n",
    "from os.path import exists\n",
    "import sqlalchemy as sa"
   ]
  },
  {
   "cell_type": "code",
   "execution_count": 2,
   "metadata": {},
   "outputs": [],
   "source": [
    "crate_data_path=\"../data/db-dump.tar.gz\"\n",
    "if not exists(crate_data_path):\n",
    "    response=request.get(\"https://static.crates.io/db-dump.tar.gz\",stream=True)\n",
    "    if response.status_code==200:\n",
    "        with open(crate_data_path, 'wb') as f:\n",
    "            f.write(response.raw.read())\n",
    "    else:\n",
    "        print('hey I tried')\n",
    "        print('navigate to https://crates.io/data-access')\n",
    "        print('Download it manually and throw it under data')\n",
    "\n",
    "crate_data=tarfile.open(crate_data_path)\n"
   ]
  },
  {
   "cell_type": "code",
   "execution_count": 3,
   "metadata": {},
   "outputs": [
    {
     "name": "stdout",
     "output_type": "stream",
     "text": [
      "['2022-05-17-020017', '2022-05-17-020017/export.sql', '2022-05-17-020017/schema.sql', '2022-05-17-020017/import.sql', '2022-05-17-020017/README.md', '2022-05-17-020017/metadata.json', '2022-05-17-020017/data', '2022-05-17-020017/data/categories.csv', '2022-05-17-020017/data/crates.csv', '2022-05-17-020017/data/keywords.csv', '2022-05-17-020017/data/metadata.csv', '2022-05-17-020017/data/reserved_crate_names.csv', '2022-05-17-020017/data/teams.csv', '2022-05-17-020017/data/users.csv', '2022-05-17-020017/data/badges.csv', '2022-05-17-020017/data/crates_categories.csv', '2022-05-17-020017/data/crates_keywords.csv', '2022-05-17-020017/data/crate_owners.csv', '2022-05-17-020017/data/versions.csv', '2022-05-17-020017/data/dependencies.csv', '2022-05-17-020017/data/version_downloads.csv']\n"
     ]
    }
   ],
   "source": [
    "print(crate_data.getnames())"
   ]
  },
  {
   "cell_type": "markdown",
   "metadata": {},
   "source": []
  }
 ],
 "metadata": {
  "interpreter": {
   "hash": "0ccdab473a7179b2aa4fff9af08bd3cc622a566420cc9ff16c3a5fdebf1e73a5"
  },
  "kernelspec": {
   "display_name": "Python 3.10.4 ('risky-shipment-E5d8QYpj-py3.10')",
   "language": "python",
   "name": "python3"
  },
  "language_info": {
   "codemirror_mode": {
    "name": "ipython",
    "version": 3
   },
   "file_extension": ".py",
   "mimetype": "text/x-python",
   "name": "python",
   "nbconvert_exporter": "python",
   "pygments_lexer": "ipython3",
   "version": "3.10.4"
  },
  "orig_nbformat": 4
 },
 "nbformat": 4,
 "nbformat_minor": 2
}

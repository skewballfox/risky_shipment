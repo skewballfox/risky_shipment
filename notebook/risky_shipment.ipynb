{
 "cells": [
  {
   "cell_type": "code",
   "execution_count": 3,
   "metadata": {},
   "outputs": [],
   "source": [
    "import tarfile\n",
    "import requests\n",
    "from os.path import exists"
   ]
  },
  {
   "cell_type": "code",
   "execution_count": 5,
   "metadata": {},
   "outputs": [],
   "source": [
    "crate_data_path=\"../data/db-dump.tar.gz\"\n",
    "if not exists(crate_data_path):\n",
    "    response=request.get(\"https://static.crates.io/db-dump.tar.gz\",stream=True)\n",
    "    if response.status_code==200:\n",
    "        with open(crate_data_path, 'wb') as f:\n",
    "            f.write(response.raw.read())\n",
    "    else:\n",
    "        print('hey I tried')\n",
    "        print('navigate to https://crates.io/data-access')\n",
    "        print('Download it manually and throw it under data')\n",
    "\n",
    "crate_data=tarfile.open(crate_data_path)\n"
   ]
  },
  {
   "cell_type": "code",
   "execution_count": 6,
   "metadata": {},
   "outputs": [
    {
     "name": "stdout",
     "output_type": "stream",
     "text": [
      "<tarfile.TarFile object at 0x7fbab15dda20>\n"
     ]
    }
   ],
   "source": [
    "print(crate_data.getnames())"
   ]
  },
  {
   "cell_type": "markdown",
   "metadata": {},
   "source": []
  }
 ],
 "metadata": {
  "interpreter": {
   "hash": "e7370f93d1d0cde622a1f8e1c04877d8463912d04d973331ad4851f04de6915a"
  },
  "kernelspec": {
   "display_name": "Python 3.10.4 64-bit",
   "language": "python",
   "name": "python3"
  },
  "language_info": {
   "codemirror_mode": {
    "name": "ipython",
    "version": 3
   },
   "file_extension": ".py",
   "mimetype": "text/x-python",
   "name": "python",
   "nbconvert_exporter": "python",
   "pygments_lexer": "ipython3",
   "version": "3.10.4"
  },
  "orig_nbformat": 4
 },
 "nbformat": 4,
 "nbformat_minor": 2
}
